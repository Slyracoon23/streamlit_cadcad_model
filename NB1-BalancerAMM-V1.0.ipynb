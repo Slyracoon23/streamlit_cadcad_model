{
 "cells": [
  {
   "cell_type": "markdown",
   "metadata": {},
   "source": [
    "# NB #1:  Pool Exploration \n",
    "\n",
    "### Pool address: 0x8b6e6E7B5b3801FEd2CaFD4b22b8A16c2F2Db21a  -- 80% WETH - 20% DAI \n",
    "\n",
    "The Balancer Pool cadCAD model provides a core infrastructure for simulating Balancer Pools in the **Token Engineering Design and Verification process**.\n",
    "\n",
    "It allows to simulate Balancer Pool transactions and verify new designs and application cases.  \n",
    "In this notebook we plug **historical on-chain data** to a cadCAD model, and analyse **Pool Power** and **Pool Characteristics**.\n",
    "\n",
    "For more information check out the [Balancer Simulations documentation](https://token-engineering-balancer.gitbook.io/balancer-simulations/)."
   ]
  },
  {
   "cell_type": "markdown",
   "metadata": {},
   "source": [
    "# A. System Context"
   ]
  },
  {
   "cell_type": "markdown",
   "metadata": {},
   "source": [
    "### A1.1 System Specification\n",
    "System specification details are available in the Balancer Simulations documentation:\n",
    "- [Differential Specification](https://token-engineering-balancer.gitbook.io/balancer-simulations/balancer-simulations/v10nboverview)\n",
    "- [Mathematical Specification](https://token-engineering-balancer.gitbook.io/balancer-simulations/additional-code-and-instructions/balancer-the-python-edition/balancer_math.py)\n",
    "- [Model Architecture](https://token-engineering-balancer.gitbook.io/balancer-simulations/balancer-simulations/v10nboverview)\n",
    "- [Naming Convention](https://token-engineering-balancer.gitbook.io/balancer-simulations/additional-code-and-instructions/naming-convention)"
   ]
  },
  {
   "cell_type": "markdown",
   "metadata": {},
   "source": [
    "# B. cadCAD Simulations"
   ]
  },
  {
   "cell_type": "markdown",
   "metadata": {},
   "source": [
    "### B1.1 Dependencies"
   ]
  },
  {
   "cell_type": "code",
   "execution_count": null,
   "metadata": {},
   "outputs": [],
   "source": [
    "import pandas as pd \n",
    "from cadCAD.configuration.utils import config_sim"
   ]
  },
  {
   "cell_type": "markdown",
   "metadata": {},
   "source": [
    "### B1.2 Initialize Pool\n"
   ]
  },
  {
   "cell_type": "markdown",
   "metadata": {},
   "source": [
    "In this section you specify the Balancer Pool to be analyzed and run scripts to produce the'genesis_state', based on on-chain data. \n",
    "\n",
    "More information here: [Balancer Simulations documentation](https://token-engineering-balancer.gitbook.io/balancer-simulations/additional-code-and-instructions/onchaintransactions).  "
   ]
  },
  {
   "cell_type": "code",
   "execution_count": 1,
   "metadata": {},
   "outputs": [],
   "source": [
    "import pprint\n",
    "pp = pprint.PrettyPrinter(indent=4)\n",
    "\n",
    "from decimal import Decimal\n",
    "\n",
    "# Spot price reference must be a symbol of a token in the pool in ALL_CAPS, you can ignore the spot price parameter for the simulations in this notebook.\n",
    "parameters = {\n",
    "    'spot_price_reference': ['DAI'],\n",
    "}\n"
   ]
  },
  {
   "cell_type": "markdown",
   "metadata": {},
   "source": [
    "#### Import Pool Transactions and Initialize Pool state\n",
    "\n",
    "Genesis state, pool transactions, and (external) USD token prices are pulled from on-chain/API data collected in a .json file.  \n",
    "**Choose *your* Balancer Pool, and produce this .json file first, then add the file path below.**\n",
    "\n",
    "Learn more how to create this file using parsing scripts in the [documentation](https://token-engineering-balancer.gitbook.io/balancer-simulations/v/master/additional-code-and-instructions/onchaintransactions).\n"
   ]
  },
  {
   "cell_type": "code",
   "execution_count": null,
   "metadata": {},
   "outputs": [],
   "source": [
    "from model.genesis_states import generate_initial_state\n",
    "\n",
    "initial_values = generate_initial_state(initial_values_json='data/0x8b6e6e7b5b3801fed2cafd4b22b8a16c2f2db21a-initial_pool_states-prices.json', spot_price_base_currency=parameters['spot_price_reference'][0])"
   ]
  },
  {
   "cell_type": "markdown",
   "metadata": {},
   "source": [
    "#### State Variables and Initial Values"
   ]
  },
  {
   "cell_type": "code",
   "execution_count": null,
   "metadata": {},
   "outputs": [],
   "source": [
    "print('## State Variables')\n",
    "print('# Pool')\n",
    "pool = initial_values['pool']\n",
    "pp.pprint(initial_values)\n"
   ]
  },
  {
   "cell_type": "markdown",
   "metadata": {},
   "source": [
    "#### External USD Token Prices"
   ]
  },
  {
   "cell_type": "code",
   "execution_count": null,
   "metadata": {},
   "outputs": [],
   "source": [
    "print('# External token prices, initial state')\n",
    "token_prices = initial_values['token_prices']\n",
    "pp.pprint(token_prices)\n",
    "\n",
    "print('# Action Type')\n",
    "action_type = initial_values['action_type']\n",
    "pp.pprint(action_type)\n"
   ]
  },
  {
   "cell_type": "markdown",
   "metadata": {},
   "source": [
    "### B1.3 State Update Functions & Policies\n",
    "\n",
    "Balancer Simulations replicate Balancer Pool Transactions in state update functions.\n",
    "For a detailed description on how we implement transactions, please visit the [Balancer Simulations documentation/Balancer Pool Functions](https://token-engineering-balancer.gitbook.io/balancer-simulations/v/master/additional-code-and-instructions/balancer-the-python-edition/balancer-pool-functions)."
   ]
  },
  {
   "cell_type": "markdown",
   "metadata": {},
   "source": [
    "### B1.4 Partial State Update Blocks\n",
    "\n",
    "Partial State Update Blocks combine the following steps:  \n",
    "1. **Initialize pool**, generate genesis state\n",
    "2. Compute subsequent **actions in discrete timesteps**, store datetime and update the pool state variables\n",
    "3. Update external **USD prices in discrete timesteps**, and store datetime  \n",
    "\n",
    "For more information please visit the [Balancer Simulations documentation/V1.0 Model Overview](https://token-engineering-balancer.gitbook.io/balancer-simulations/v/master/balancer-simulations/v10nboverview)."
   ]
  },
  {
   "cell_type": "code",
   "execution_count": null,
   "metadata": {},
   "outputs": [],
   "source": [
    "from model.partial_state_update_block import generate_partial_state_update_blocks\n",
    "\n",
    "result = generate_partial_state_update_blocks('data/0x8b6e6e7b5b3801fed2cafd4b22b8a16c2f2db21a-actions-prices.json')\n",
    "partial_state_update_blocks = result['partial_state_update_blocks']\n",
    "pp.pprint(partial_state_update_blocks)"
   ]
  },
  {
   "cell_type": "markdown",
   "metadata": {},
   "source": [
    "### B1.5 Configuration\n",
    "\n",
    "[cadCAD simulations](https://github.com/cadCAD-org/cadCAD/blob/master/documentation/README.md) support Monte Carlo runs, and parameter sweeps which are not applied in this notebook and can be ignored here.  \n",
    "Timesteps 'T' are defined by your pool's .json file, no need to make edits here."
   ]
  },
  {
   "cell_type": "code",
   "execution_count": 2,
   "metadata": {},
   "outputs": [
    {
     "ename": "NameError",
     "evalue": "name 'result' is not defined",
     "output_type": "error",
     "traceback": [
      "\u001b[0;31m---------------------------------------------------------------------------\u001b[0m",
      "\u001b[0;31mNameError\u001b[0m                                 Traceback (most recent call last)",
      "\u001b[0;32m<ipython-input-2-825212656cea>\u001b[0m in \u001b[0;36m<module>\u001b[0;34m\u001b[0m\n\u001b[0;32m----> 1\u001b[0;31m \u001b[0msteps_number\u001b[0m \u001b[0;34m=\u001b[0m \u001b[0mresult\u001b[0m\u001b[0;34m[\u001b[0m\u001b[0;34m'steps_number'\u001b[0m\u001b[0;34m]\u001b[0m\u001b[0;34m\u001b[0m\u001b[0;34m\u001b[0m\u001b[0m\n\u001b[0m\u001b[1;32m      2\u001b[0m \u001b[0mprint\u001b[0m\u001b[0;34m(\u001b[0m\u001b[0;34m'# Steps '\u001b[0m\u001b[0;34m,\u001b[0m \u001b[0msteps_number\u001b[0m\u001b[0;34m)\u001b[0m\u001b[0;34m\u001b[0m\u001b[0;34m\u001b[0m\u001b[0m\n\u001b[1;32m      3\u001b[0m sim_config = config_sim(\n\u001b[1;32m      4\u001b[0m     {\n\u001b[1;32m      5\u001b[0m         \u001b[0;34m'N'\u001b[0m\u001b[0;34m:\u001b[0m \u001b[0;36m1\u001b[0m\u001b[0;34m,\u001b[0m  \u001b[0;31m# number of monte carlo runs\u001b[0m\u001b[0;34m\u001b[0m\u001b[0;34m\u001b[0m\u001b[0m\n",
      "\u001b[0;31mNameError\u001b[0m: name 'result' is not defined"
     ]
    }
   ],
   "source": [
    "steps_number = result['steps_number']\n",
    "print('# Steps ', steps_number)\n",
    "sim_config = config_sim(\n",
    "    {\n",
    "        'N': 1,  # number of monte carlo runs\n",
    "        'T': range(steps_number - 1),  # number of timesteps\n",
    "        'M': parameters,  # simulation parameters\n",
    "    }\n",
    ")"
   ]
  },
  {
   "cell_type": "markdown",
   "metadata": {},
   "source": [
    "### B1.6 Execution"
   ]
  },
  {
   "cell_type": "code",
   "execution_count": null,
   "metadata": {},
   "outputs": [],
   "source": [
    "from model.sim_runner import *\n",
    "\n",
    "df = run(initial_values, partial_state_update_blocks, sim_config)"
   ]
  },
  {
   "cell_type": "markdown",
   "metadata": {},
   "source": [
    "### B1.7 Simulation Output Preparation\n",
    "\n",
    "Post-processing (utils.py) splits up state variable dictionaries, and adds metrics to the data frame, such as \n",
    "- `token_total_value` (TVL)\n",
    "- `generated_fees_(tokensymbol)` (fee collected per transaction)\n",
    "- `token_k_values`  (token value in USD)  \n",
    "based on  \n",
    "- `token_k_balances`\n",
    "- `token_k_price`  \n",
    "\n"
   ]
  },
  {
   "cell_type": "code",
   "execution_count": null,
   "metadata": {
    "scrolled": false
   },
   "outputs": [],
   "source": [
    "from model.parts.utils import post_processing\n",
    "\n",
    "p_df = post_processing(df, include_spot_prices=False)\n",
    "\n",
    "p_df.head()"
   ]
  },
  {
   "cell_type": "markdown",
   "metadata": {},
   "source": [
    "# C. Simulation Outcome & Pool Exploration\n",
    "\n",
    "Below we show a range of plots exploring pool states in the simulation:\n",
    "\n",
    "**a) Pool Power:**  \n",
    "- C1.1 TVL (Total Value Locked, over time) compared to  \n",
    "- C1.1 Pool Size Growth (Number of tokens in the pool, over time)  \n",
    "- C1.2 Token Balances (individual balances, over time)\n",
    "\n",
    "**b) Pool Characteristics:**  \n",
    "- C1.3 Source of Pool Growth (Total Growth vs. Fees collected)\n",
    "- C1.4 Token Ratio\n",
    "- C1.5 Action Types"
   ]
  },
  {
   "cell_type": "code",
   "execution_count": null,
   "metadata": {},
   "outputs": [],
   "source": []
  },
  {
   "cell_type": "code",
   "execution_count": null,
   "metadata": {},
   "outputs": [],
   "source": [
    "import pandas as pd\n",
    "import plotly.express as px\n",
    "import plotly.graph_objects as go\n",
    "from plotly.subplots import make_subplots"
   ]
  },
  {
   "cell_type": "code",
   "execution_count": null,
   "metadata": {},
   "outputs": [],
   "source": [
    "print(\"Observation Time\")\n",
    "print(f\"Start: {(p_df.iloc[0]['change_datetime'])}\")\n",
    "print(f\"End: {(p_df.iloc[-1]['change_datetime'])}\")\n",
    "print(\"\\n\")\n",
    "print(f\"Total No. of Timesteps (incl. Price Updates): {(p_df.iloc[-1]['timestep'])}\")\n",
    "print(f\"Total No. of Transactions: {len(p_df[p_df.action_type != 'external_price_update'])}\")"
   ]
  },
  {
   "cell_type": "markdown",
   "metadata": {},
   "source": [
    "### C1.1 TVL & Pool Size Growth"
   ]
  },
  {
   "cell_type": "code",
   "execution_count": null,
   "metadata": {},
   "outputs": [],
   "source": [
    "#TVL vs. Pool Size Growth\n",
    "tvl_p_df = p_df[['timestep', 'tvl', 'total_token_balances']] \n",
    "# Create figure with secondary y-axis\n",
    "fig = make_subplots(specs=[[{\"secondary_y\": True}]])\n",
    "# Add traces\n",
    "fig.add_trace(go.Scatter(x=tvl_p_df['timestep'],y=tvl_p_df['tvl'], line=dict(color='#7DFD64'), name=\"TVL total_token_value\"), secondary_y=False,)\n",
    "fig.add_trace(go.Scatter(x=tvl_p_df['timestep'],y=tvl_p_df['total_token_balances'], line=dict(color='#2C1839'), name=\"total_token_balance\"), secondary_y=True,)\n",
    "#Layout\n",
    "fig.update_layout(title_text=\"<b>TVS vs. Pool Size Growth</b>\")\n",
    "fig.update_xaxes(title_text=\"timestep\")\n",
    "fig.update_yaxes(title_text=\"<b>TVL total_token_value</b> in USD\", secondary_y=False)\n",
    "fig.update_yaxes(title_text=\"<b>total_token_balance</b> in #\", secondary_y=True)\n",
    "fig.show()  "
   ]
  },
  {
   "cell_type": "code",
   "execution_count": null,
   "metadata": {},
   "outputs": [],
   "source": [
    "#TVL growth over observation time in %\n",
    "#Total token balance growth over observation time in %"
   ]
  },
  {
   "cell_type": "markdown",
   "metadata": {},
   "source": [
    "**Observations:**\n",
    "- both TVL and Pool Size grow, but\n",
    "- Pool Size growth is huge - \n",
    "- USD value spikes around timestep 5000"
   ]
  },
  {
   "cell_type": "markdown",
   "metadata": {},
   "source": [
    "### C1.2 Token Balances"
   ]
  },
  {
   "cell_type": "code",
   "execution_count": null,
   "metadata": {},
   "outputs": [],
   "source": [
    "k = 2 #define number of tokens in your pool\n",
    "fig = make_subplots(rows=k, cols=1)\n",
    "fig.add_trace(go.Scatter(x=p_df['timestep'], y=p_df['token_weth_balance'], line=dict(color='#015B99'), name='token_weth_balance'), row=1, col=1)\n",
    "fig.add_trace(go.Scatter(x=p_df['timestep'], y=p_df['token_dai_balance'], line=dict(color='#5CB1EC'), name='token_dai_balance'), row=2, col=1)\n",
    "fig.update_layout(height=400, width=1000, title_text=\"<b>Token Balances in #</b>\")\n",
    "fig.show()"
   ]
  },
  {
   "cell_type": "markdown",
   "metadata": {},
   "source": [
    "**Observations:**\n",
    "- ETH declines, DAI grows significantly\n",
    "- Pool Size growth mainly driven by DAI growth\n",
    "- Hypothesis: pool's main purpose is to serve as an exchange ETH for DAI (see also Action Types below)"
   ]
  },
  {
   "cell_type": "markdown",
   "metadata": {},
   "source": [
    "### C1.3 Sources of Growth "
   ]
  },
  {
   "cell_type": "code",
   "execution_count": null,
   "metadata": {},
   "outputs": [],
   "source": [
    "#Pool Shares\n",
    "ps_p_df = p_df[['timestep','pool_shares']]\n",
    "fig = px.line(ps_p_df, x=ps_p_df['timestep'],y=ps_p_df['pool_shares'])\n",
    "fig.update_layout(height=300, width=1000, title_text=\"<b>Pool Shares (BPT)</b>\")\n",
    "fig.update_xaxes(title_text=\"timestep\")\n",
    "fig.update_yaxes(title_text=\"<b>pool shares</b> in #\", range=[99.985,101.00])\n",
    "fig.show()"
   ]
  },
  {
   "cell_type": "markdown",
   "metadata": {},
   "source": [
    "**Observations:**\n",
    "- minor growth via liquidity deposits\n",
    "- Hypothesis: fees are main source of Pool Growth"
   ]
  },
  {
   "cell_type": "code",
   "execution_count": null,
   "metadata": {},
   "outputs": [],
   "source": [
    "#Fees\n",
    "k = 2 #define number of tokens in your pool\n",
    "fig = make_subplots(rows=k, cols=1)\n",
    "fee_p_df = p_df[['timestep','generated_fees_dai','token_dai_price','generated_fees_weth','token_weth_price']]\n",
    "fig.add_trace(go.Scatter(x=p_df['timestep'], y=p_df['generated_fees_weth'], line=dict(color='#015B99'), name='fees generated WETH'), row=1, col=1)\n",
    "fig.add_trace(go.Scatter(x=p_df['timestep'], y=p_df['generated_fees_dai'], line=dict(color='#5CB1EC'), name='fees generated DAI'), row=2, col=1)\n",
    "fig.update_layout(height=400, width=1000, title_text=\"<b>Fees Generated over time</b>\")"
   ]
  },
  {
   "cell_type": "code",
   "execution_count": null,
   "metadata": {},
   "outputs": [],
   "source": [
    "p_df.info()"
   ]
  },
  {
   "cell_type": "code",
   "execution_count": null,
   "metadata": {},
   "outputs": [],
   "source": [
    "#balance growth (total observation period)\n",
    "daib_df = (p_df.iloc[-1][['token_dai_balance']])-(p_df.iloc[0][['token_dai_balance']]).copy()\n",
    "daib_df = daib_df.reset_index()\n",
    "daib_df.columns =['source', 'growth']\n",
    "wethb_df = (p_df.iloc[-1][['token_weth_balance']])-(p_df.iloc[0][['token_weth_balance']]).copy()\n",
    "wethb_df = wethb_df.reset_index()\n",
    "wethb_df.columns =['source', 'growth']\n",
    "\n",
    "#fee growth ACHTUNG add \"generated_fees_k\", is currently an object, this is why I use price atm\n",
    "daif_df = p_df.groupby('action_type').sum()['token_dai_price'].drop(['exit', 'exit_swap', 'external_price_update','pool_creation']).reset_index()\n",
    "daif_df.columns =['source', 'growth'] \n",
    "wethf_df = p_df.groupby('action_type').sum()['token_weth_price'].drop(['exit', 'exit_swap', 'external_price_update','pool_creation']).reset_index()\n",
    "wethf_df.columns =['source', 'growth'] \n",
    "\n",
    "#merge\n",
    "dai_df= pd.concat([daib_df, daif_df], ignore_index=True)\n",
    "dai_df\n",
    "weth_df= pd.concat([wethb_df, wethf_df], ignore_index=True)\n",
    "weth_df\n",
    "\n",
    "#plot chart\n",
    "k = 2 #define number of tokens in your pool\n",
    "fig = make_subplots(rows=1, cols=k, subplot_titles=(\"DAI Growth\", \"WETH Growth\"))\n",
    "fig.add_trace(go.Bar(name=\"DAI Growth\", y=dai_df['growth'], x=dai_df['source'], marker_color=px.colors.sequential.Turbo), row=1, col=1)\n",
    "fig.add_trace(go.Bar(name=\"WETH Growth\", y=weth_df['growth'], x=weth_df['source'], marker_color=px.colors.sequential.Turbo), row=1, col=2)\n",
    "fig.update_layout(height=400, width=1000, title_text=\"<b>Growth & Sources of Growth</b>\", showlegend=False)\n",
    "\n",
    "fig.show()"
   ]
  },
  {
   "cell_type": "code",
   "execution_count": null,
   "metadata": {},
   "outputs": [],
   "source": [
    "# Compare USD value of fees collected ETH/DAI\n",
    "# Compare % of USD value total fees collected via DAI vs. ETH"
   ]
  },
  {
   "cell_type": "markdown",
   "metadata": {},
   "source": [
    "### C1.4 Token Ratio"
   ]
  },
  {
   "cell_type": "code",
   "execution_count": null,
   "metadata": {},
   "outputs": [],
   "source": [
    "# TODO: create subplots\n",
    "# TODO: alternatively consider line chart showing changes across particular events\n",
    "\n",
    "events = [0, -1]\n",
    "r_p_df = p_df.iloc[events][['token_dai_balance','token_weth_balance']].transpose(copy=True).reset_index()\n",
    "r_p_df\n",
    "\n",
    "fig1 = px.pie(r_p_df, values=0, names='index', color_discrete_sequence=px.colors.sequential.Turbo)\n",
    "fig2 = px.pie(r_p_df, values=25601, names='index', color_discrete_sequence=px.colors.sequential.Turbo)\n",
    "fig1.update_layout(height=300, width=1000, title_text=\"<b>Token Ratio</b>\")\n",
    "fig2.update_layout(height=300, width=1000, title_text=\"<b>Token Ratio</b>\")\n",
    "\n",
    "fig1.show()\n",
    "fig2.show()"
   ]
  },
  {
   "cell_type": "markdown",
   "metadata": {},
   "source": [
    "### C1.5 Action Types"
   ]
  },
  {
   "cell_type": "code",
   "execution_count": null,
   "metadata": {},
   "outputs": [],
   "source": [
    "#action type per timestep\n",
    "fig = px.scatter(p_df, x='timestep', y='total_token_balances', color='action_type', color_discrete_sequence=px.colors.sequential.Turbo, category_orders={'action_type': ['pool_creation', 'join', 'join_swap', 'swap', 'exit_swap', 'exit', 'external_price_update']})\n",
    "fig.update_layout(height=400, width=1000, title_text=\"<b>Action Type / Timestep</b>\")\n",
    "fig.update_xaxes(rangeslider_visible=True)\n",
    "fig.show()"
   ]
  },
  {
   "cell_type": "code",
   "execution_count": null,
   "metadata": {},
   "outputs": [],
   "source": [
    "# Show Action Types\n",
    "a_p_df = p_df.groupby('action_type').size().to_frame('count').reset_index()\n",
    "fig = px.pie(a_p_df, values='count', names='action_type', title='<b>Action Types</b>', hole=.3, color_discrete_sequence=px.colors.sequential.Turbo)\n",
    "fig.show()\n",
    "print(a_p_df)"
   ]
  },
  {
   "cell_type": "markdown",
   "metadata": {},
   "source": [
    "**Observations:**\n",
    "\n",
    "- Hypothesis confirmed, pool's main purpose is to serve as an exchange ETH for DAI (see Pool Size Growth)\n"
   ]
  }
 ],
 "metadata": {
  "kernelspec": {
   "display_name": "Python 3",
   "language": "python",
   "name": "python3"
  },
  "language_info": {
   "codemirror_mode": {
    "name": "ipython",
    "version": 3
   },
   "file_extension": ".py",
   "mimetype": "text/x-python",
   "name": "python",
   "nbconvert_exporter": "python",
   "pygments_lexer": "ipython3",
   "version": "3.9.1"
  }
 },
 "nbformat": 4,
 "nbformat_minor": 4
}
