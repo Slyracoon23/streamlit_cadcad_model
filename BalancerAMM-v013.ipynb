{
 "cells": [
  {
   "cell_type": "markdown",
   "metadata": {},
   "source": [
    "# Balancer Simulations\n",
    "\n",
    "# The LP package\n",
    "\n",
    "This is a model and set of simulations to analyse Balancer AMM pools from a liquidity provider point of view,  \n",
    "using **historical on-chain data**.\n",
    "\n",
    "You'll be able to analyse **pool share value** in the following scenarios:  \n",
    "- C1 Analyse **pool share value over time** (incl. Impermanent Loss)  \n",
    "- C2 Analyse pool share value **when add** (incl. slippage)\n",
    "- C3 Analyse pool share value **when exit** (incl. slippage)\n",
    "\n",
    "For more information on available packages, checkout the [Balancer Simulations documentation](xxxadd link)."
   ]
  },
  {
   "cell_type": "markdown",
   "metadata": {},
   "source": [
    "## Table of content\n",
    "here List and links to content (automatically?)"
   ]
  },
  {
   "cell_type": "markdown",
   "metadata": {},
   "source": [
    "# A. System Context"
   ]
  },
  {
   "cell_type": "markdown",
   "metadata": {},
   "source": [
    "### Value Drivers & Key Variables\n",
    "Differential Syntax Diagram goes here"
   ]
  },
  {
   "cell_type": "markdown",
   "metadata": {},
   "source": [
    "## Naming Convention\n",
    "\n",
    "All code provided for this package is following a specific naming convention. You'll find and overview in the documentation. (xxx add link)\n"
   ]
  },
  {
   "cell_type": "markdown",
   "metadata": {},
   "source": [
    "## List of State Variables  \n"
   ]
  },
  {
   "cell_type": "code",
   "execution_count": null,
   "metadata": {},
   "outputs": [],
   "source": [
    "from pprint import pprint as pp\n",
    "from model.genesis_states import initial_values\n",
    "pp(initial_values)"
   ]
  },
  {
   "cell_type": "markdown",
   "metadata": {},
   "source": [
    "## List of Parameters"
   ]
  },
  {
   "cell_type": "code",
   "execution_count": null,
   "metadata": {},
   "outputs": [],
   "source": [
    "from decimal import Decimal\n",
    "parameters = {\n",
    "    'swap_fee': [Decimal(0.1)]\n",
    "}\n",
    "pp(parameters)"
   ]
  },
  {
   "cell_type": "markdown",
   "metadata": {},
   "source": [
    "### System Mapping (Differential spec here? Or in later specifying simulations)\n",
    "Show the (digital twin!) system in a viz language like\n",
    "- Conceptual model\n",
    "- Causal Loop\n",
    "- Stock & Flow\n",
    "...or several of them, tbd"
   ]
  },
  {
   "cell_type": "markdown",
   "metadata": {},
   "source": [
    "### Mathematical Specification (Policy here? Or in later specifying simulations)\n",
    "shows the Balancer AMM math (or provides a link),\n",
    "add some more context, particularly\n",
    "- what function is used where (reference to What-if-Matrix, perhaps add eg. \"Spotprice\" to What-if-Matrix) this reference of Math > Simulation would be ideal"
   ]
  },
  {
   "cell_type": "markdown",
   "metadata": {},
   "source": [
    "### System Design (see above)\n",
    "Show the (digital twin!) system in\n",
    "- Differential Spec Syntax"
   ]
  },
  {
   "cell_type": "markdown",
   "metadata": {},
   "source": [
    "# B. cadCAD Notebook"
   ]
  },
  {
   "cell_type": "markdown",
   "metadata": {},
   "source": [
    "### 0. Dependencies\n",
    "optionally add context to code below, and link \"requirements.txt\" "
   ]
  },
  {
   "cell_type": "code",
   "execution_count": null,
   "metadata": {},
   "outputs": [],
   "source": [
    "import pandas as pd \n",
    "from cadCAD.configuration.utils import config_sim"
   ]
  },
  {
   "cell_type": "markdown",
   "metadata": {},
   "source": [
    "# C. Simulate: \n",
    "# Change of LP pool share value over time"
   ]
  },
  {
   "cell_type": "code",
   "execution_count": null,
   "metadata": {},
   "outputs": [],
   "source": []
  },
  {
   "cell_type": "markdown",
   "metadata": {},
   "source": [
    "### C1.1 Scenario\n",
    "\n",
    "This simulation allows you to analyse the change of a liquidity provider’s pool share value over time.  \n",
    "You can run various scenarios  \n",
    "a) step into the shoes of a specific liquidity provider (should be the first transaction in your data set) and simulate your returns, potential losses or optimization strategies “what if I were this person” (100% overlap with on-chain data)  \n",
    "b) define a new liquidity add (make artificial “JOIN” event, which didn’t exist in on-chain), and simulate your returns, potential losses or optimization strategies (based on on-chain transactions, deviations according to your liquidity add)  "
   ]
  },
  {
   "cell_type": "markdown",
   "metadata": {},
   "source": [
    "### C1.2 State Variables\n"
   ]
  },
  {
   "cell_type": "markdown",
   "metadata": {},
   "source": [
    "Define token symbol for better readability:"
   ]
  },
  {
   "cell_type": "code",
   "execution_count": null,
   "metadata": {},
   "outputs": [],
   "source": [
    "#code to assign token symbol to transaction data (token smart contracts) "
   ]
  },
  {
   "cell_type": "markdown",
   "metadata": {},
   "source": [
    "Pull initial balances from data: (how to data parse in readme.file in data folder)"
   ]
  },
  {
   "cell_type": "code",
   "execution_count": null,
   "metadata": {},
   "outputs": [],
   "source": [
    "# Date/block timestampStart\n",
    "# Date/block timestampStop\n",
    "\n",
    "import pprint\n",
    "from model.genesis_states import initial_values\n",
    "pp = pprint.PrettyPrinter(indent=4)\n",
    "\n",
    "print('## State Variables')\n",
    "print('# Pool')\n",
    "gen_values = initial_values\n",
    "pool = gen_values['pool']\n",
    "pp.pprint(pool)\n",
    "print('# External token values feeds')\n",
    "token_values = gen_values['token_values']\n",
    "pp.pprint(token_values)\n",
    "\n",
    "\n"
   ]
  },
  {
   "cell_type": "markdown",
   "metadata": {},
   "source": [
    "### C1.3 System Parameters\n",
    "(provides an overview on all parameters)\n",
    "\n",
    "The system parameters we need to **define** for simulating this use case are:\n",
    "- parameter description in human langage / parameter (code) / with value (code)\n",
    "\n",
    "The following system parameters will be **swept** in the simulation:\n",
    "- parameter description in human language / parameter (code) / values to sweep (code)\n",
    "\n"
   ]
  },
  {
   "cell_type": "markdown",
   "metadata": {},
   "source": [
    "### C1.4 State Update Functions\n",
    "\n",
    "Balancer Math implementation in python in file [balancer_math](./model/parts/balancer_math.py)\n",
    "\n",
    "In regard to this simulation there are 3 types of action the users can do:\n",
    "\n",
    "#### Add liquidity (join pool)\n",
    "\n",
    "Transfer tokens into the pool proportionally to the tokens weights in it, and receive an amount of pool share tokens that represent the user's position that the pool will mint, adding to the total_pool_shares.\n",
    "\n",
    "Balancer allows to add liqudity in 2 ways\n",
    "\n",
    "- `s_join_pool`: Defining the amount of pool_share tokens the user wants out. This will calculate the amount of each token bound to the pool that will be pulled from the user's wallet, in proportion to the bound tokens weight in the pool.\n",
    "\n",
    "- `s_join_swap_extern_amount_in`: Sending a determinate amount of 1 of the bound tokens. The amount of pool_share tokens out will be calculated and returned to the user. This operation acts like a swap as well, so swap_fees will be aplied.\n",
    "\n",
    "\n",
    "\n",
    "#### Remove liquidity (exit pool)\n",
    "\n",
    "Transfer tokens out from the pool to the user's ballance, proportionally to the tokens weights in it, sending the corresponding pool_share tokens back to the pull, which will burn them reducing total_pool_shares\n",
    "\n",
    "Balancer allows to remove liqudity in 2 ways\n",
    "\n",
    "- `s_exit_pool`: Defining the amount of pool_share tokens the user send to the pool and burn. This will calculate the amount of each token bound to the pool that will be sent to the user's wallet, in proportion to the bound tokens weight in the pool.\n",
    "\n",
    "- `s_exit_swap_pool_amount_in`: Reclaiming a determinate amount of 1 of the bound tokens. The amount of pool_share tokens needed to reclaim this amount will be calculated and pulled from the user's balance and burnt. This operation acts like a swap as well, so swap_fees will be aplied.\n",
    "\n",
    "\n",
    "#### Swap tokens (exchange one token for another)\n",
    "\n",
    "- `s_swap_exact_amount_in`: Send one token to the pool, defining which token the user wants in return.\n",
    "\n",
    "\n",
    "\n",
    "#### Simplifications in the model\n",
    "\n",
    "Balancer has 2 variants of each method, one where you fix the amount of tokens in and the amount and a limit on the amount of tokens out or swap price, and one fixing the amount of tokens out and limits on the swap price or amount of tokens in.\n",
    "\n",
    "The reason to this is that in Ethereum transactions can get mined before the one sent by the user, so pool state can change before the transaction is executed, resulting in trades not benefitial for the user. \n",
    "\n",
    "For this, the pool methods will check the user define limits and will make the transaction fail if is not within the user defined bounds. This way gas will be spent and lost, but unfavorable trades will not be made.\n",
    "\n",
    "Since our simulation deals with sequential transactions, *this logic is not included and all methods will use math for known token amount in.*\n",
    "\n",
    "\n",
    "\n",
    "\n",
    "\n",
    "Defined in [pool_state_updates.py](./model/parts/pool_state_updates.py)"
   ]
  },
  {
   "cell_type": "markdown",
   "metadata": {},
   "source": [
    "### C1.5 Partial State Update Blocks\n",
    "\n",
    "\n",
    "1. Parse action and update pool\n",
    "2. Update external prices\n",
    "3. Calculate metrics\n",
    "\n",
    "The BPool smart contract logic is split in 2, the state update blocks 1 (apply BMath to update pool state) and 3 (use BMath to `get_spot_price` of the tokens after the trades, which is a system metric)\n",
    "\n",
    "\n",
    "\n",
    "Defined in [partial_state_update_block.py](./model/partial_state_update_block.py)"
   ]
  },
  {
   "cell_type": "code",
   "execution_count": null,
   "metadata": {},
   "outputs": [],
   "source": [
    "from model.partial_state_update_block import generate_partial_state_update_blocks\n",
    "\n",
    "result = generate_partial_state_update_blocks('model/parts/actions_prices-WETH-DAI-0x8b6e6e7b5b3801fed2cafd4b22b8a16c2f2db21a.json')\n",
    "partial_state_update_blocks = result['partial_state_update_blocks']\n",
    "pp.pprint(partial_state_update_blocks)"
   ]
  },
  {
   "cell_type": "markdown",
   "metadata": {},
   "source": [
    "### C1.6 Configuration\n",
    "\n",
    "\n"
   ]
  },
  {
   "cell_type": "code",
   "execution_count": null,
   "metadata": {},
   "outputs": [],
   "source": [
    "steps_number = result['steps_number']\n",
    "print('# Steps ', steps_number)\n",
    "sim_config = config_sim(\n",
    "    {\n",
    "        'N': 1,  # number of monte carlo runs\n",
    "        'T': range(steps_number - 1),  # number of timesteps - 1267203 is last action timestep (timestamp - initial timestamp)\n",
    "        'M': parameters,  # simulation parameters\n",
    "    }\n",
    ")"
   ]
  },
  {
   "cell_type": "markdown",
   "metadata": {},
   "source": [
    "### C1.7 Execution"
   ]
  },
  {
   "cell_type": "code",
   "execution_count": null,
   "metadata": {},
   "outputs": [],
   "source": [
    "from model.genesis_states import initial_values\n",
    "\n",
    "from model.sim_runner import *\n",
    "\n",
    "df = run(initial_values, partial_state_update_blocks, sim_config)\n"
   ]
  },
  {
   "cell_type": "markdown",
   "metadata": {},
   "source": [
    "### C1.8 Simulation Output Preparation"
   ]
  },
  {
   "cell_type": "code",
   "execution_count": null,
   "metadata": {
    "scrolled": true
   },
   "outputs": [],
   "source": [
    "from model.parts.utils import post_processing\n",
    "\n",
    "p_df = post_processing(df)\n",
    "#p_df.tail(10)"
   ]
  },
  {
   "cell_type": "markdown",
   "metadata": {},
   "source": [
    "### C1.9 Simulation Outcome & Conclusion\n",
    "\n",
    "Note: \n",
    "we use the following color code for plots  \n",
    "a) token balances = green  \n",
    "b) USD values = orange  \n",
    "c) pool shares (BPT balances) = blue  \n",
    "\n",
    "#### C.1.9.1 Compare Token Balances"
   ]
  },
  {
   "cell_type": "code",
   "execution_count": null,
   "metadata": {},
   "outputs": [],
   "source": [
    "import matplotlib.pyplot as plt\n",
    "import matplotlib.dates as mdates\n",
    "import numpy as np"
   ]
  },
  {
   "cell_type": "code",
   "execution_count": null,
   "metadata": {},
   "outputs": [],
   "source": [
    "#USE VALUES DIRECTLY FROM DATAFRAME ZERO (p_df)\n",
    "\n",
    "x = p_df['timestep'] #change to datetime, solve processing issue\n",
    "y1 = p_df['token_weth_balance']\n",
    "y2 = p_df['token_dai_balance']\n",
    "y3 = p_df['pool_shares']\n",
    "\n",
    "plt.figure()\n",
    "fig, axs = plt.subplots(figsize=(20,10), dpi=300, ncols=1, nrows=3, constrained_layout=True)\n",
    "fig.suptitle('Balances', fontsize=24)\n",
    "axs[0].plot(x, y1, linewidth=1, marker=\".\", color=\"#3C7E6F\")\n",
    "axs[0].set_title('Token WETH Balance', fontsize=16)\n",
    "axs[0].set_xlabel('timestep', fontsize=16)\n",
    "axs[0].set_ylabel('token_weth_balance', fontsize=16)\n",
    "\n",
    "axs[1].plot(x, y2, linewidth=1, marker=\".\", color=\"#53992C\")\n",
    "axs[1].set_title('Token DAI Balance', fontsize=16)\n",
    "axs[1].set_xlabel('timestep', fontsize=16)\n",
    "axs[1].set_ylabel('token_dai_balance', fontsize=16)\n",
    "\n",
    "axs[2].plot(x, y3, linewidth=1, marker=\".\", color=\"#5CB1EC\")\n",
    "axs[2].set_title('Pool Share Balance', fontsize=16)\n",
    "axs[2].set_xlabel('timestep', fontsize=16)\n",
    "axs[2].set_ylabel('pool_shares', fontsize=16)\n",
    "\n",
    "\n",
    "plt.show()"
   ]
  },
  {
   "cell_type": "markdown",
   "metadata": {},
   "source": [
    "### Observations:\n",
    "\n",
    "1.Observe arbitrage trading behavior\n",
    "- there are periods diplaying either more interest in ETH or DAI (see rough curve direction upwards, downwards)\n",
    "- how does that correlate with arbitrage gaps/arbitrage trading (assumption: a sequence of trades pushing the curve in the same direction are trades until an arbitrage gap is closed\n",
    "- in future versions we might be able to classify arbitrage trades. What if it turns out that 90% of trades on typical AMMs are arbitrage trades? Isn't this a huge value extract, too big to ignore? DAMMs come to the rescue :)"
   ]
  },
  {
   "cell_type": "code",
   "execution_count": null,
   "metadata": {},
   "outputs": [],
   "source": [
    "#ANALYSE TVL\n",
    "#CREATE CUSTOMIZED DATAFRAME FROM DATAFRAME ZERO (p_df)\n",
    "\n",
    "tvl_p_df = pd.DataFrame(columns=['total_token_value_TVL', 'timestep'])\n",
    "tvl_p_df['timestep'] = p_df['timestep'] \n",
    "\n",
    "#provide list of tokens (can perhaps be refactored to pull automatically from genesis_state.py?)\n",
    "tlist = ('dai','weth')\n",
    "\n",
    "# append existing columns (balance+price), and create new column for values\n",
    "for i in tlist:\n",
    "    tvl_p_df[f'token_{i}_balance'] = p_df[f'token_{i}_balance'] \n",
    "    tvl_p_df[f'token_{i}_price'] = p_df[f'token_{i}_value'] \n",
    "    tvl_p_df[f'token_{i}_value'] = tvl_p_df[f'token_{i}_balance']*tvl_p_df[f'token_{i}_price']\n",
    "\n",
    "# calculate TVL\n",
    "for i in tlist: #needs refactoring, so that we not only pick a+b but all tokens (up to 8) values\n",
    "    a = tvl_p_df[f'token_{tlist[0]}_value']\n",
    "    b = tvl_p_df[f'token_{tlist[1]}_value']\n",
    "    tvl_p_df['total_token_value_TVL'] = a + b\n",
    "tvl_p_df.tail(10) "
   ]
  },
  {
   "cell_type": "code",
   "execution_count": null,
   "metadata": {},
   "outputs": [],
   "source": [
    "x = tvl_p_df['timestep'] #change to datetime, solve processing issue\n",
    "y1 = tvl_p_df['total_token_value_TVL']\n",
    "y2 = tvl_p_df['token_weth_value']\n",
    "y3 = tvl_p_df['token_dai_value']\n",
    "\n",
    "plt.figure()\n",
    "fig, axs = plt.subplots(figsize=(20,10), dpi=300, ncols=1, nrows=3, constrained_layout=True)\n",
    "fig.suptitle('TVL', fontsize=24)\n",
    "axs[0].plot(x, y1, linewidth=1, marker=\".\", color=\"#3C7E6F\")\n",
    "axs[0].set_title('Token Token Value TVL', fontsize=16)\n",
    "axs[0].set_xlabel('timestep', fontsize=16)\n",
    "axs[0].set_ylabel('total_token_value_TVL', fontsize=16)\n",
    "\n",
    "axs[1].plot(x, y2, linewidth=1, marker=\".\", color=\"#53992C\")\n",
    "axs[1].set_title('Token WETH Value', fontsize=16)\n",
    "axs[1].set_xlabel('timestep', fontsize=16)\n",
    "axs[1].set_ylabel('token_dai_value', fontsize=16)\n",
    "\n",
    "axs[2].plot(x, y3, linewidth=1, marker=\".\", color=\"#5CB1EC\")\n",
    "axs[2].set_title('Token DAI Value', fontsize=16)\n",
    "axs[2].set_xlabel('timestep', fontsize=16)\n",
    "axs[2].set_ylabel('token_dai_value', fontsize=16)\n",
    "\n",
    "\n",
    "plt.show()"
   ]
  },
  {
   "cell_type": "markdown",
   "metadata": {},
   "source": [
    "# System Validation and Limitations\n",
    "\n",
    "- document the steps taken to validate if the model reflects real Balancer AMM properly (Did we build the right model?)\n",
    "- document the steps taken to verify if the model creates reliable results (Did we build the model right?)\n",
    "\n",
    "### Notes (Draft!)\n",
    "**a) BMath Calculations:**  \n",
    "Our goal is to implement the BMath calculations in this Python model in a way that it replicates *exactly* the calculation results in an EVM.\n",
    "\n",
    "We've verified the model with a series of tests:\n",
    "- create tests using balancer's smart contract repos\n",
    "- generate a pool contract in a local EVM, do a swap or whatever operation, \n",
    "- put those input outputs as a test in python, port the code, test to see if the results match\n",
    "\n",
    "**b) external USD price feed** \n",
    "- in this simulation we're using historical USD prices from xxx (source)  \n",
    "- to map blocks and transactions we've ... (how we parsed USD price feed)\n",
    "\n",
    "**c) Our simulation does not include:**  \n",
    "- gas prices or add_fees when adding liquidity  \n",
    "- \n",
    "\n",
    "**Results: (summarize)**\n",
    "\n",
    "(Notes for ourselves:\n",
    "- assertAlmostEqual takes 7 decimal places for comparision, sometimes we had to set 5 decimal places for the test to pass\n",
    "- we could publish the EVM tests  as companion in the docs later but right now is very rough code\n",
    "- to run the test go to your virtual env, instlal requirements with pip, then run pytest\n",
    "- they should pass\n",
    "- when everything is tested and works as the contracts, we could move on to cadCAD stuff\n",
    "\n",
    "According to Balancer.finance documentation \"The formulas are sufficient to describe the functional specification, but they are not straightforward to implement for the EVM, in part due to a lack of mature fixed-point math libraries.\" (https://docs.balancer.finance/core-concepts/protocol/index))"
   ]
  },
  {
   "cell_type": "markdown",
   "metadata": {},
   "source": [
    "# E. Comments\n",
    "\n",
    "closing comments if appropriate, and links to other notebooks/other use cases"
   ]
  }
 ],
 "metadata": {
  "kernelspec": {
   "display_name": "Python 3",
   "language": "python",
   "name": "python3"
  },
  "language_info": {
   "codemirror_mode": {
    "name": "ipython",
    "version": 3
   },
   "file_extension": ".py",
   "mimetype": "text/x-python",
   "name": "python",
   "nbconvert_exporter": "python",
   "pygments_lexer": "ipython3",
   "version": "3.8.5"
  }
 },
 "nbformat": 4,
 "nbformat_minor": 4
}
