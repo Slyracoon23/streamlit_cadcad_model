{
 "cells": [
  {
   "cell_type": "markdown",
   "metadata": {},
   "source": [
    "# Balancer AMM Token Pool Model & Simulations\n",
    "\n",
    "Here text about \n",
    "- the motivation to build and open-source this model\n",
    "- specific use case of this model and simulation (open question: 1 notebook per use case simulation? accessing the same core model for simulations?)"
   ]
  },
  {
   "cell_type": "markdown",
   "metadata": {},
   "source": [
    "## Table of content\n",
    "here List and links to content (automatically?)"
   ]
  },
  {
   "cell_type": "markdown",
   "metadata": {},
   "source": [
    "# A. System Context"
   ]
  },
  {
   "cell_type": "markdown",
   "metadata": {},
   "source": [
    "### Use Case: AMM Index\n",
    "- PowerPool case\n",
    "- the Balancer AMM model in this context\n",
    "- link/give an on System Analysis Balancer AMM (how the model is set up)\n",
    "- What-if-Matrix PowerPool (Key questions, how to answer)"
   ]
  },
  {
   "cell_type": "markdown",
   "metadata": {},
   "source": [
    "### System Mapping\n",
    "Show the (digital twin!) system in a viz language like\n",
    "- Conceptual model\n",
    "- Causal Loop\n",
    "- Stock & Flow\n",
    "...or several of them, tbd"
   ]
  },
  {
   "cell_type": "markdown",
   "metadata": {},
   "source": [
    "### Mathematical Specification\n",
    "shows the Balancer AMM math (or provides a link),\n",
    "add some more context, particularly\n",
    "- what function is used where (reference to What-if-Matrix, perhaps add eg. \"Spotprice\" to What-if-Matrix) this reference of Math > Simulation would be ideal"
   ]
  },
  {
   "cell_type": "markdown",
   "metadata": {},
   "source": [
    "### System Design\n",
    "Show the (digital twin!) system in\n",
    "- Differential Spec Syntax"
   ]
  },
  {
   "cell_type": "markdown",
   "metadata": {},
   "source": [
    "# B. cadCAD Notebook"
   ]
  },
  {
   "cell_type": "markdown",
   "metadata": {},
   "source": [
    "### 0. Dependencies\n",
    "optionally add context to code below, and link \"requirements.txt\" "
   ]
  },
  {
   "cell_type": "code",
   "execution_count": null,
   "metadata": {},
   "outputs": [],
   "source": [
    "# import pandas as pd\n",
    "# import numbpy as np\n",
    "# random\n",
    "# plotly\n",
    "# cadCAD\n",
    "# others..."
   ]
  },
  {
   "cell_type": "markdown",
   "metadata": {},
   "source": [
    "### 1. State Variables\n",
    "list (as text)\n",
    "- the states we are interested in / their state variables / their initial values"
   ]
  },
  {
   "cell_type": "code",
   "execution_count": null,
   "metadata": {},
   "outputs": [],
   "source": [
    "#set initial states"
   ]
  },
  {
   "cell_type": "markdown",
   "metadata": {},
   "source": [
    "### 2. System Parameters\n",
    "(provides an overview on all parameters)\n",
    "\n",
    "The system parameters we need to **define** for simulating this use case are:\n",
    "- parameter description in human langage / parameter (code) / with value (code)\n",
    "\n",
    "The following system parameters will be **swept** in the simulation:\n",
    "- parameter description in human language / parameter (code) / values to sweep (code)"
   ]
  },
  {
   "cell_type": "code",
   "execution_count": null,
   "metadata": {},
   "outputs": [],
   "source": [
    "# code to define parameters"
   ]
  },
  {
   "cell_type": "markdown",
   "metadata": {},
   "source": [
    "### 4. State Update Functions"
   ]
  },
  {
   "cell_type": "code",
   "execution_count": null,
   "metadata": {},
   "outputs": [],
   "source": [
    "# def ..."
   ]
  },
  {
   "cell_type": "code",
   "execution_count": null,
   "metadata": {},
   "outputs": [],
   "source": [
    "# def"
   ]
  },
  {
   "cell_type": "code",
   "execution_count": null,
   "metadata": {},
   "outputs": [],
   "source": [
    "# def"
   ]
  },
  {
   "cell_type": "markdown",
   "metadata": {},
   "source": [
    "### 5. Partial State Update Blocks"
   ]
  },
  {
   "cell_type": "code",
   "execution_count": null,
   "metadata": {},
   "outputs": [],
   "source": [
    "# code"
   ]
  },
  {
   "cell_type": "markdown",
   "metadata": {},
   "source": [
    "### 6. Configuration"
   ]
  },
  {
   "cell_type": "code",
   "execution_count": null,
   "metadata": {},
   "outputs": [],
   "source": [
    "# simulation timesteps\n",
    "# monte carlo / parameter sweeps etc."
   ]
  },
  {
   "cell_type": "markdown",
   "metadata": {},
   "source": [
    "### 7. Execution"
   ]
  },
  {
   "cell_type": "code",
   "execution_count": 2,
   "metadata": {},
   "outputs": [],
   "source": [
    "# exec_..."
   ]
  },
  {
   "cell_type": "markdown",
   "metadata": {},
   "source": [
    "### 8. Simulation Output Preparation"
   ]
  },
  {
   "cell_type": "code",
   "execution_count": null,
   "metadata": {},
   "outputs": [],
   "source": [
    "# any code required to make results more readable, clean substeps etc."
   ]
  },
  {
   "cell_type": "markdown",
   "metadata": {},
   "source": [
    "# C. System Validation\n",
    "if appropriate link system map, use case Analysis and What-if-Matrix again,\n",
    "- document the steps taken to validate if the model reflects real Balancer AMM properly (Did we build the right model?)\n",
    "- document the steps taken to verify if the model creates reliable results (Did we build the model right?)\n",
    "\n",
    "### Notes (Draft!)\n",
    "**a) BMath Calculations:**  \n",
    "Our goal is to implement the BMath calculations in this Python model in a way that it replicates *exactly* the calculation results in an EVM.\n",
    "\n",
    "We've verified the model with a series of tests:\n",
    "- create tests using balancer's smart contract repos\n",
    "- generate a pool contract in a local EVM, do a swap or whatever operation, \n",
    "- put those input outputs as a test in python, port the code, test to see if the results match\n",
    "\n",
    "**Results: (summarize)**\n",
    "\n",
    "(Notes for ourselves:\n",
    "- assertAlmostEqual takes 7 decimal places for comparision, sometimes we had to set 5 decimal places for the test to pass\n",
    "- we could publish the EVM tests  as companion in the docs later but right now is very rough code\n",
    "- to run the test go to your virtual env, instlal requirements with pip, then run pytest\n",
    "- they should pass\n",
    "- when everything is tested and works as the contracts, we could move on to cadCAD stuff\n",
    "\n",
    "According to Balancer.finance documentation \"The formulas are sufficient to describe the functional specification, but they are not straightforward to implement for the EVM, in part due to a lack of mature fixed-point math libraries.\" (https://docs.balancer.finance/core-concepts/protocol/index))"
   ]
  },
  {
   "cell_type": "markdown",
   "metadata": {},
   "source": [
    "# D. Simulation Results\n",
    "\n",
    "- Analysis 1: What-if question 1 in human readable language, as a question"
   ]
  },
  {
   "cell_type": "code",
   "execution_count": null,
   "metadata": {},
   "outputs": [],
   "source": [
    "# code for Analysis 1"
   ]
  },
  {
   "cell_type": "markdown",
   "metadata": {},
   "source": [
    "- Analysis 2: What-if question 2 in human readable language, as a question"
   ]
  },
  {
   "cell_type": "code",
   "execution_count": null,
   "metadata": {},
   "outputs": [],
   "source": [
    "# code for Analysis 2"
   ]
  },
  {
   "cell_type": "markdown",
   "metadata": {},
   "source": [
    "...and so forth"
   ]
  },
  {
   "cell_type": "markdown",
   "metadata": {},
   "source": [
    "# E. Comments\n",
    "\n",
    "closing comments if appropriate, and links to other notebooks/other use cases"
   ]
  },
  {
   "cell_type": "code",
   "execution_count": null,
   "metadata": {},
   "outputs": [],
   "source": []
  }
 ],
 "metadata": {
  "kernelspec": {
   "display_name": "Python 3",
   "language": "python",
   "name": "python3"
  },
  "language_info": {
   "codemirror_mode": {
    "name": "ipython",
    "version": 3
   },
   "file_extension": ".py",
   "mimetype": "text/x-python",
   "name": "python",
   "nbconvert_exporter": "python",
   "pygments_lexer": "ipython3",
   "version": "3.8.5"
  }
 },
 "nbformat": 4,
 "nbformat_minor": 4
}
